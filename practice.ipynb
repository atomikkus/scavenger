{
 "cells": [
  {
   "cell_type": "code",
   "execution_count": 1,
   "metadata": {},
   "outputs": [],
   "source": [
    "import os as os"
   ]
  },
  {
   "cell_type": "code",
   "execution_count": 15,
   "metadata": {},
   "outputs": [
    {
     "name": "stdout",
     "output_type": "stream",
     "text": [
      "Matching file paths have been written to output.txt\n"
     ]
    }
   ],
   "source": [
    "import os\n",
    "\n",
    "def find_files_by_partial_names(root_dir, partial_names):\n",
    "    matching_files = []\n",
    "    for partial_name in partial_names:\n",
    "        [print(i,end='\\r') for i in ['>>','>>>','>>>>']]\n",
    "        for dirpath, dirnames, filenames in os.walk(root_dir):\n",
    "            for filename in filenames:\n",
    "                if partial_name in filename:\n",
    "                    full_path = os.path.join(dirpath, filename)\n",
    "                    matching_files.append(full_path)\n",
    "    return matching_files\n",
    "\n",
    "def read_partial_names(file_path):\n",
    "    with open(file_path, 'r') as file:\n",
    "        return [line.strip() for line in file]\n",
    "\n",
    "def write_matching_paths(file_path, matching_paths):\n",
    "    with open(file_path, 'w') as file:\n",
    "        for path in matching_paths:\n",
    "            file.write(path + '\\n')\n",
    "\n",
    "root_directory = r'C:\\Users\\prksh\\Downloads\\CLusteringTR'\n",
    "input_file = 'text.txt'\n",
    "output_file = 'output.txt'\n",
    "\n",
    "partial_names = read_partial_names(input_file)\n",
    "matching_file_paths = find_files_by_partial_names(root_directory, partial_names)\n",
    "write_matching_paths(output_file, matching_file_paths)\n",
    "\n",
    "print(f'Matching file paths have been written to {output_file}')\n"
   ]
  },
  {
   "cell_type": "code",
   "execution_count": null,
   "metadata": {},
   "outputs": [],
   "source": [
    "import os\n",
    "import argparse\n",
    "\n",
    "def find_files_by_partial_names(root_dir, partial_names):\n",
    "    matching_files = []\n",
    "    for partial_name in partial_names:\n",
    "        [print(i,end='\\r') for i in ['>>','>>>','>>>>']]\n",
    "        for dirpath, dirnames, filenames in os.walk(root_dir):\n",
    "            for filename in filenames:\n",
    "                if partial_name in filename:\n",
    "                    full_path = os.path.join(dirpath, filename)\n",
    "                    matching_files.append(full_path)\n",
    "    return matching_files\n",
    "\n",
    "def read_partial_names(file_path):\n",
    "    with open(file_path, 'r') as file:\n",
    "        return [line.strip() for line in file]\n",
    "\n",
    "def write_matching_paths(file_path, matching_paths):\n",
    "    with open(file_path, 'w') as file:\n",
    "        for path in matching_paths:\n",
    "            file.write(path + '\\n')\n",
    "\n",
    "def main():\n",
    "    parser = argparse.ArgumentParser(description='Find files by partial names and output their paths.')\n",
    "    parser.add_argument('input_file', help='The input file containing partial filenames.')\n",
    "    parser.add_argument('--root_directory', default=os.getcwd(), help='The root directory to start searching from. Default is the current working directory.')\n",
    "    parser.add_argument('--output_file', default='output.txt', help='The output file to write matching file paths to. Default is output.txt.')\n",
    "\n",
    "    args = parser.parse_args()\n",
    "\n",
    "    root_directory = args.root_directory\n",
    "    input_file = args.input_file\n",
    "    output_file = args.output_file\n",
    "\n",
    "    partial_names = read_partial_names(input_file)\n",
    "    matching_file_paths = find_files_by_partial_names(root_directory, partial_names)\n",
    "    write_matching_paths(output_file, matching_file_paths)\n",
    "\n",
    "    print(f'Matching file paths have been written to {output_file}')\n",
    "\n",
    "if __name__ == '__main__':\n",
    "    main()\n"
   ]
  },
  {
   "cell_type": "code",
   "execution_count": 1,
   "metadata": {},
   "outputs": [
    {
     "name": "stdout",
     "output_type": "stream",
     "text": [
      "nananakalkfla\n"
     ]
    }
   ],
   "source": [
    "print('nananakalkfla')"
   ]
  },
  {
   "cell_type": "code",
   "execution_count": null,
   "metadata": {},
   "outputs": [],
   "source": []
  }
 ],
 "metadata": {
  "kernelspec": {
   "display_name": "Python 3",
   "language": "python",
   "name": "python3"
  },
  "language_info": {
   "codemirror_mode": {
    "name": "ipython",
    "version": 3
   },
   "file_extension": ".py",
   "mimetype": "text/x-python",
   "name": "python",
   "nbconvert_exporter": "python",
   "pygments_lexer": "ipython3",
   "version": "3.10.2"
  }
 },
 "nbformat": 4,
 "nbformat_minor": 2
}
